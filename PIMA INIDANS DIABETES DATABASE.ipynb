{
  "cells": [
    {
      "cell_type": "markdown",
      "metadata": {
        "id": "view-in-github",
        "colab_type": "text"
      },
      "source": [
        "<a href=\"https://colab.research.google.com/github/deepikak4/machine-learning-project/blob/main/PIMA%20INIDANS%20DIABETES%20DATABASE.ipynb\" target=\"_parent\"><img src=\"https://colab.research.google.com/assets/colab-badge.svg\" alt=\"Open In Colab\"/></a>"
      ]
    },
    {
      "cell_type": "markdown",
      "id": "7fb9a0db",
      "metadata": {
        "id": "7fb9a0db"
      },
      "source": [
        " # ML PROJECT-PIMA INIDANS DIABETES DATABASE\n",
        "\n",
        "\n",
        "## BY DEEPIKA"
      ]
    },
    {
      "cell_type": "markdown",
      "id": "74d2a014",
      "metadata": {
        "id": "74d2a014"
      },
      "source": [
        " ### IMPORT LIBRARIES\n"
      ]
    },
    {
      "cell_type": "code",
      "execution_count": null,
      "id": "1ad9a5bd",
      "metadata": {
        "id": "1ad9a5bd"
      },
      "outputs": [],
      "source": [
        "import pandas as pd\n",
        "import numpy as np\n",
        "import matplotlib.pyplot as plt\n",
        "import seaborn as sns\n",
        "\n",
        "from sklearn.model_selection import train_test_split\n",
        "from sklearn.linear_model import LogisticRegression\n",
        "from sklearn.preprocessing import StandardScaler\n",
        "from sklearn.neighbors import KNeighborsClassifier\n",
        "from sklearn.svm import SVC\n",
        "from sklearn.naive_bayes import GaussianNB\n",
        "from sklearn.ensemble import RandomForestClassifier\n",
        "from sklearn.metrics import accuracy_score\n",
        "from sklearn.model_selection import GridSearchCV\n",
        "import warnings\n",
        "warnings.filterwarnings('ignore')"
      ]
    },
    {
      "cell_type": "markdown",
      "id": "3986d020",
      "metadata": {
        "id": "3986d020"
      },
      "source": [
        "### loading dataset"
      ]
    },
    {
      "cell_type": "code",
      "execution_count": null,
      "id": "a6f88758",
      "metadata": {
        "id": "a6f88758",
        "outputId": "63869f14-9194-4a15-a875-33aa9e45a7a5"
      },
      "outputs": [
        {
          "name": "stdout",
          "output_type": "stream",
          "text": [
            "Shape: (768, 9)\n"
          ]
        },
        {
          "data": {
            "text/html": [
              "<div>\n",
              "<style scoped>\n",
              "    .dataframe tbody tr th:only-of-type {\n",
              "        vertical-align: middle;\n",
              "    }\n",
              "\n",
              "    .dataframe tbody tr th {\n",
              "        vertical-align: top;\n",
              "    }\n",
              "\n",
              "    .dataframe thead th {\n",
              "        text-align: right;\n",
              "    }\n",
              "</style>\n",
              "<table border=\"1\" class=\"dataframe\">\n",
              "  <thead>\n",
              "    <tr style=\"text-align: right;\">\n",
              "      <th></th>\n",
              "      <th>Pregnancies</th>\n",
              "      <th>Glucose</th>\n",
              "      <th>BloodPressure</th>\n",
              "      <th>SkinThickness</th>\n",
              "      <th>Insulin</th>\n",
              "      <th>BMI</th>\n",
              "      <th>DiabetesPedigreeFunction</th>\n",
              "      <th>Age</th>\n",
              "      <th>Outcome</th>\n",
              "    </tr>\n",
              "  </thead>\n",
              "  <tbody>\n",
              "    <tr>\n",
              "      <th>0</th>\n",
              "      <td>6</td>\n",
              "      <td>148</td>\n",
              "      <td>72</td>\n",
              "      <td>35</td>\n",
              "      <td>0</td>\n",
              "      <td>33.6</td>\n",
              "      <td>0.627</td>\n",
              "      <td>50</td>\n",
              "      <td>1</td>\n",
              "    </tr>\n",
              "    <tr>\n",
              "      <th>1</th>\n",
              "      <td>1</td>\n",
              "      <td>85</td>\n",
              "      <td>66</td>\n",
              "      <td>29</td>\n",
              "      <td>0</td>\n",
              "      <td>26.6</td>\n",
              "      <td>0.351</td>\n",
              "      <td>31</td>\n",
              "      <td>0</td>\n",
              "    </tr>\n",
              "    <tr>\n",
              "      <th>2</th>\n",
              "      <td>8</td>\n",
              "      <td>183</td>\n",
              "      <td>64</td>\n",
              "      <td>0</td>\n",
              "      <td>0</td>\n",
              "      <td>23.3</td>\n",
              "      <td>0.672</td>\n",
              "      <td>32</td>\n",
              "      <td>1</td>\n",
              "    </tr>\n",
              "    <tr>\n",
              "      <th>3</th>\n",
              "      <td>1</td>\n",
              "      <td>89</td>\n",
              "      <td>66</td>\n",
              "      <td>23</td>\n",
              "      <td>94</td>\n",
              "      <td>28.1</td>\n",
              "      <td>0.167</td>\n",
              "      <td>21</td>\n",
              "      <td>0</td>\n",
              "    </tr>\n",
              "    <tr>\n",
              "      <th>4</th>\n",
              "      <td>0</td>\n",
              "      <td>137</td>\n",
              "      <td>40</td>\n",
              "      <td>35</td>\n",
              "      <td>168</td>\n",
              "      <td>43.1</td>\n",
              "      <td>2.288</td>\n",
              "      <td>33</td>\n",
              "      <td>1</td>\n",
              "    </tr>\n",
              "  </tbody>\n",
              "</table>\n",
              "</div>"
            ],
            "text/plain": [
              "   Pregnancies  Glucose  BloodPressure  SkinThickness  Insulin   BMI  \\\n",
              "0            6      148             72             35        0  33.6   \n",
              "1            1       85             66             29        0  26.6   \n",
              "2            8      183             64              0        0  23.3   \n",
              "3            1       89             66             23       94  28.1   \n",
              "4            0      137             40             35      168  43.1   \n",
              "\n",
              "   DiabetesPedigreeFunction  Age  Outcome  \n",
              "0                     0.627   50        1  \n",
              "1                     0.351   31        0  \n",
              "2                     0.672   32        1  \n",
              "3                     0.167   21        0  \n",
              "4                     2.288   33        1  "
            ]
          },
          "execution_count": 2,
          "metadata": {},
          "output_type": "execute_result"
        }
      ],
      "source": [
        "db = pd.read_csv(\"diabetes.csv\")\n",
        "print(\"Shape:\",db.shape)\n",
        "db.head()    #displays first five records of data"
      ]
    },
    {
      "cell_type": "code",
      "execution_count": null,
      "id": "dde5005e",
      "metadata": {
        "id": "dde5005e",
        "outputId": "af29cecb-7caf-434f-84ca-edc229f96baa"
      },
      "outputs": [
        {
          "data": {
            "text/html": [
              "<div>\n",
              "<style scoped>\n",
              "    .dataframe tbody tr th:only-of-type {\n",
              "        vertical-align: middle;\n",
              "    }\n",
              "\n",
              "    .dataframe tbody tr th {\n",
              "        vertical-align: top;\n",
              "    }\n",
              "\n",
              "    .dataframe thead th {\n",
              "        text-align: right;\n",
              "    }\n",
              "</style>\n",
              "<table border=\"1\" class=\"dataframe\">\n",
              "  <thead>\n",
              "    <tr style=\"text-align: right;\">\n",
              "      <th></th>\n",
              "      <th>Pregnancies</th>\n",
              "      <th>Glucose</th>\n",
              "      <th>BloodPressure</th>\n",
              "      <th>SkinThickness</th>\n",
              "      <th>Insulin</th>\n",
              "      <th>BMI</th>\n",
              "      <th>DiabetesPedigreeFunction</th>\n",
              "      <th>Age</th>\n",
              "      <th>Outcome</th>\n",
              "    </tr>\n",
              "  </thead>\n",
              "  <tbody>\n",
              "    <tr>\n",
              "      <th>763</th>\n",
              "      <td>10</td>\n",
              "      <td>101</td>\n",
              "      <td>76</td>\n",
              "      <td>48</td>\n",
              "      <td>180</td>\n",
              "      <td>32.9</td>\n",
              "      <td>0.171</td>\n",
              "      <td>63</td>\n",
              "      <td>0</td>\n",
              "    </tr>\n",
              "    <tr>\n",
              "      <th>764</th>\n",
              "      <td>2</td>\n",
              "      <td>122</td>\n",
              "      <td>70</td>\n",
              "      <td>27</td>\n",
              "      <td>0</td>\n",
              "      <td>36.8</td>\n",
              "      <td>0.340</td>\n",
              "      <td>27</td>\n",
              "      <td>0</td>\n",
              "    </tr>\n",
              "    <tr>\n",
              "      <th>765</th>\n",
              "      <td>5</td>\n",
              "      <td>121</td>\n",
              "      <td>72</td>\n",
              "      <td>23</td>\n",
              "      <td>112</td>\n",
              "      <td>26.2</td>\n",
              "      <td>0.245</td>\n",
              "      <td>30</td>\n",
              "      <td>0</td>\n",
              "    </tr>\n",
              "    <tr>\n",
              "      <th>766</th>\n",
              "      <td>1</td>\n",
              "      <td>126</td>\n",
              "      <td>60</td>\n",
              "      <td>0</td>\n",
              "      <td>0</td>\n",
              "      <td>30.1</td>\n",
              "      <td>0.349</td>\n",
              "      <td>47</td>\n",
              "      <td>1</td>\n",
              "    </tr>\n",
              "    <tr>\n",
              "      <th>767</th>\n",
              "      <td>1</td>\n",
              "      <td>93</td>\n",
              "      <td>70</td>\n",
              "      <td>31</td>\n",
              "      <td>0</td>\n",
              "      <td>30.4</td>\n",
              "      <td>0.315</td>\n",
              "      <td>23</td>\n",
              "      <td>0</td>\n",
              "    </tr>\n",
              "  </tbody>\n",
              "</table>\n",
              "</div>"
            ],
            "text/plain": [
              "     Pregnancies  Glucose  BloodPressure  SkinThickness  Insulin   BMI  \\\n",
              "763           10      101             76             48      180  32.9   \n",
              "764            2      122             70             27        0  36.8   \n",
              "765            5      121             72             23      112  26.2   \n",
              "766            1      126             60              0        0  30.1   \n",
              "767            1       93             70             31        0  30.4   \n",
              "\n",
              "     DiabetesPedigreeFunction  Age  Outcome  \n",
              "763                     0.171   63        0  \n",
              "764                     0.340   27        0  \n",
              "765                     0.245   30        0  \n",
              "766                     0.349   47        1  \n",
              "767                     0.315   23        0  "
            ]
          },
          "execution_count": 3,
          "metadata": {},
          "output_type": "execute_result"
        }
      ],
      "source": [
        "db.tail()  # displays last five records"
      ]
    },
    {
      "cell_type": "code",
      "execution_count": null,
      "id": "e1dca0bc",
      "metadata": {
        "id": "e1dca0bc",
        "outputId": "1ab68da2-ab62-4319-da5d-f9bc8b10bd6f"
      },
      "outputs": [
        {
          "data": {
            "text/html": [
              "<div>\n",
              "<style scoped>\n",
              "    .dataframe tbody tr th:only-of-type {\n",
              "        vertical-align: middle;\n",
              "    }\n",
              "\n",
              "    .dataframe tbody tr th {\n",
              "        vertical-align: top;\n",
              "    }\n",
              "\n",
              "    .dataframe thead th {\n",
              "        text-align: right;\n",
              "    }\n",
              "</style>\n",
              "<table border=\"1\" class=\"dataframe\">\n",
              "  <thead>\n",
              "    <tr style=\"text-align: right;\">\n",
              "      <th></th>\n",
              "      <th>Pregnancies</th>\n",
              "      <th>Glucose</th>\n",
              "      <th>BloodPressure</th>\n",
              "      <th>SkinThickness</th>\n",
              "      <th>Insulin</th>\n",
              "      <th>BMI</th>\n",
              "      <th>DiabetesPedigreeFunction</th>\n",
              "      <th>Age</th>\n",
              "      <th>Outcome</th>\n",
              "    </tr>\n",
              "  </thead>\n",
              "  <tbody>\n",
              "    <tr>\n",
              "      <th>count</th>\n",
              "      <td>768.000000</td>\n",
              "      <td>768.000000</td>\n",
              "      <td>768.000000</td>\n",
              "      <td>768.000000</td>\n",
              "      <td>768.000000</td>\n",
              "      <td>768.000000</td>\n",
              "      <td>768.000000</td>\n",
              "      <td>768.000000</td>\n",
              "      <td>768.000000</td>\n",
              "    </tr>\n",
              "    <tr>\n",
              "      <th>mean</th>\n",
              "      <td>3.845052</td>\n",
              "      <td>120.894531</td>\n",
              "      <td>69.105469</td>\n",
              "      <td>20.536458</td>\n",
              "      <td>79.799479</td>\n",
              "      <td>31.992578</td>\n",
              "      <td>0.471876</td>\n",
              "      <td>33.240885</td>\n",
              "      <td>0.348958</td>\n",
              "    </tr>\n",
              "    <tr>\n",
              "      <th>std</th>\n",
              "      <td>3.369578</td>\n",
              "      <td>31.972618</td>\n",
              "      <td>19.355807</td>\n",
              "      <td>15.952218</td>\n",
              "      <td>115.244002</td>\n",
              "      <td>7.884160</td>\n",
              "      <td>0.331329</td>\n",
              "      <td>11.760232</td>\n",
              "      <td>0.476951</td>\n",
              "    </tr>\n",
              "    <tr>\n",
              "      <th>min</th>\n",
              "      <td>0.000000</td>\n",
              "      <td>0.000000</td>\n",
              "      <td>0.000000</td>\n",
              "      <td>0.000000</td>\n",
              "      <td>0.000000</td>\n",
              "      <td>0.000000</td>\n",
              "      <td>0.078000</td>\n",
              "      <td>21.000000</td>\n",
              "      <td>0.000000</td>\n",
              "    </tr>\n",
              "    <tr>\n",
              "      <th>25%</th>\n",
              "      <td>1.000000</td>\n",
              "      <td>99.000000</td>\n",
              "      <td>62.000000</td>\n",
              "      <td>0.000000</td>\n",
              "      <td>0.000000</td>\n",
              "      <td>27.300000</td>\n",
              "      <td>0.243750</td>\n",
              "      <td>24.000000</td>\n",
              "      <td>0.000000</td>\n",
              "    </tr>\n",
              "    <tr>\n",
              "      <th>50%</th>\n",
              "      <td>3.000000</td>\n",
              "      <td>117.000000</td>\n",
              "      <td>72.000000</td>\n",
              "      <td>23.000000</td>\n",
              "      <td>30.500000</td>\n",
              "      <td>32.000000</td>\n",
              "      <td>0.372500</td>\n",
              "      <td>29.000000</td>\n",
              "      <td>0.000000</td>\n",
              "    </tr>\n",
              "    <tr>\n",
              "      <th>75%</th>\n",
              "      <td>6.000000</td>\n",
              "      <td>140.250000</td>\n",
              "      <td>80.000000</td>\n",
              "      <td>32.000000</td>\n",
              "      <td>127.250000</td>\n",
              "      <td>36.600000</td>\n",
              "      <td>0.626250</td>\n",
              "      <td>41.000000</td>\n",
              "      <td>1.000000</td>\n",
              "    </tr>\n",
              "    <tr>\n",
              "      <th>max</th>\n",
              "      <td>17.000000</td>\n",
              "      <td>199.000000</td>\n",
              "      <td>122.000000</td>\n",
              "      <td>99.000000</td>\n",
              "      <td>846.000000</td>\n",
              "      <td>67.100000</td>\n",
              "      <td>2.420000</td>\n",
              "      <td>81.000000</td>\n",
              "      <td>1.000000</td>\n",
              "    </tr>\n",
              "  </tbody>\n",
              "</table>\n",
              "</div>"
            ],
            "text/plain": [
              "       Pregnancies     Glucose  BloodPressure  SkinThickness     Insulin  \\\n",
              "count   768.000000  768.000000     768.000000     768.000000  768.000000   \n",
              "mean      3.845052  120.894531      69.105469      20.536458   79.799479   \n",
              "std       3.369578   31.972618      19.355807      15.952218  115.244002   \n",
              "min       0.000000    0.000000       0.000000       0.000000    0.000000   \n",
              "25%       1.000000   99.000000      62.000000       0.000000    0.000000   \n",
              "50%       3.000000  117.000000      72.000000      23.000000   30.500000   \n",
              "75%       6.000000  140.250000      80.000000      32.000000  127.250000   \n",
              "max      17.000000  199.000000     122.000000      99.000000  846.000000   \n",
              "\n",
              "              BMI  DiabetesPedigreeFunction         Age     Outcome  \n",
              "count  768.000000                768.000000  768.000000  768.000000  \n",
              "mean    31.992578                  0.471876   33.240885    0.348958  \n",
              "std      7.884160                  0.331329   11.760232    0.476951  \n",
              "min      0.000000                  0.078000   21.000000    0.000000  \n",
              "25%     27.300000                  0.243750   24.000000    0.000000  \n",
              "50%     32.000000                  0.372500   29.000000    0.000000  \n",
              "75%     36.600000                  0.626250   41.000000    1.000000  \n",
              "max     67.100000                  2.420000   81.000000    1.000000  "
            ]
          },
          "execution_count": 4,
          "metadata": {},
          "output_type": "execute_result"
        }
      ],
      "source": [
        "db.describe()  #to see the range of each column or statistical summary"
      ]
    },
    {
      "cell_type": "code",
      "execution_count": null,
      "id": "39c12471",
      "metadata": {
        "id": "39c12471",
        "outputId": "3da4db55-d8e4-4cae-df84-017c43c29a59"
      },
      "outputs": [
        {
          "name": "stdout",
          "output_type": "stream",
          "text": [
            "<class 'pandas.core.frame.DataFrame'>\n",
            "RangeIndex: 768 entries, 0 to 767\n",
            "Data columns (total 9 columns):\n",
            " #   Column                    Non-Null Count  Dtype  \n",
            "---  ------                    --------------  -----  \n",
            " 0   Pregnancies               768 non-null    int64  \n",
            " 1   Glucose                   768 non-null    int64  \n",
            " 2   BloodPressure             768 non-null    int64  \n",
            " 3   SkinThickness             768 non-null    int64  \n",
            " 4   Insulin                   768 non-null    int64  \n",
            " 5   BMI                       768 non-null    float64\n",
            " 6   DiabetesPedigreeFunction  768 non-null    float64\n",
            " 7   Age                       768 non-null    int64  \n",
            " 8   Outcome                   768 non-null    int64  \n",
            "dtypes: float64(2), int64(7)\n",
            "memory usage: 54.1 KB\n"
          ]
        }
      ],
      "source": [
        "db.info()  #to check null values in the dataset"
      ]
    },
    {
      "cell_type": "markdown",
      "id": "fff94bec",
      "metadata": {
        "id": "fff94bec"
      },
      "source": [
        "## data cleaning\n",
        "\n",
        "### a)dropping duplicates"
      ]
    },
    {
      "cell_type": "code",
      "execution_count": null,
      "id": "77a31f1f",
      "metadata": {
        "id": "77a31f1f",
        "outputId": "20014114-50aa-4948-cbe6-ba8a17c9c044"
      },
      "outputs": [
        {
          "data": {
            "text/plain": [
              "(768, 9)"
            ]
          },
          "execution_count": 6,
          "metadata": {},
          "output_type": "execute_result"
        }
      ],
      "source": [
        "db.shape"
      ]
    },
    {
      "cell_type": "code",
      "execution_count": null,
      "id": "5fb14709",
      "metadata": {
        "id": "5fb14709"
      },
      "outputs": [],
      "source": [
        "db= db.drop_duplicates()"
      ]
    },
    {
      "cell_type": "code",
      "execution_count": null,
      "id": "06be33b2",
      "metadata": {
        "id": "06be33b2",
        "outputId": "6e562db2-81e0-43ec-ed16-284b15e05d7b"
      },
      "outputs": [
        {
          "data": {
            "text/plain": [
              "(768, 9)"
            ]
          },
          "execution_count": 8,
          "metadata": {},
          "output_type": "execute_result"
        }
      ],
      "source": [
        "db.shape"
      ]
    },
    {
      "cell_type": "markdown",
      "id": "9998669b",
      "metadata": {
        "id": "9998669b"
      },
      "source": [
        "### b)check the NULL values"
      ]
    },
    {
      "cell_type": "code",
      "execution_count": null,
      "id": "fa9516d5",
      "metadata": {
        "id": "fa9516d5",
        "outputId": "99ffa0d0-a687-4ee6-d93d-a44e72e5f3c3"
      },
      "outputs": [
        {
          "data": {
            "text/plain": [
              "Pregnancies                 0\n",
              "Glucose                     0\n",
              "BloodPressure               0\n",
              "SkinThickness               0\n",
              "Insulin                     0\n",
              "BMI                         0\n",
              "DiabetesPedigreeFunction    0\n",
              "Age                         0\n",
              "Outcome                     0\n",
              "dtype: int64"
            ]
          },
          "execution_count": 9,
          "metadata": {},
          "output_type": "execute_result"
        }
      ],
      "source": [
        "db.isnull().sum()"
      ]
    },
    {
      "cell_type": "code",
      "execution_count": null,
      "id": "6363643a",
      "metadata": {
        "id": "6363643a",
        "outputId": "6c63c64d-ea49-4b75-d8ef-8d7f0adafb2d"
      },
      "outputs": [
        {
          "data": {
            "text/plain": [
              "Index(['Pregnancies', 'Glucose', 'BloodPressure', 'SkinThickness', 'Insulin',\n",
              "       'BMI', 'DiabetesPedigreeFunction', 'Age', 'Outcome'],\n",
              "      dtype='object')"
            ]
          },
          "execution_count": 10,
          "metadata": {},
          "output_type": "execute_result"
        }
      ],
      "source": [
        "db.columns"
      ]
    },
    {
      "cell_type": "code",
      "execution_count": null,
      "id": "d9ef7c18",
      "metadata": {
        "id": "d9ef7c18",
        "outputId": "e6debfb7-9ff5-44a5-dd6c-7435e6ead846"
      },
      "outputs": [
        {
          "name": "stdout",
          "output_type": "stream",
          "text": [
            "number of zero values in Pregnancies 111\n"
          ]
        }
      ],
      "source": [
        "print(\"number of zero values in Pregnancies\" , db[db['Pregnancies']==0].shape[0])"
      ]
    },
    {
      "cell_type": "code",
      "execution_count": null,
      "id": "42b1e567",
      "metadata": {
        "id": "42b1e567",
        "outputId": "d59d275f-90a2-4e0a-a283-e7d7c701fb8b"
      },
      "outputs": [
        {
          "name": "stdout",
          "output_type": "stream",
          "text": [
            "number of zero values in Glucose 5\n"
          ]
        }
      ],
      "source": [
        "print(\"number of zero values in Glucose\" , db[db['Glucose']==0].shape[0])"
      ]
    },
    {
      "cell_type": "code",
      "execution_count": null,
      "id": "2dc449dc",
      "metadata": {
        "id": "2dc449dc",
        "outputId": "5a910f4a-6e09-4bc8-eee0-85843625dd72"
      },
      "outputs": [
        {
          "name": "stdout",
          "output_type": "stream",
          "text": [
            "number of zero values in BloodPressure 35\n"
          ]
        }
      ],
      "source": [
        "print(\"number of zero values in BloodPressure\" , db[db['BloodPressure']==0].shape[0])"
      ]
    },
    {
      "cell_type": "code",
      "execution_count": null,
      "id": "8fcde82a",
      "metadata": {
        "id": "8fcde82a",
        "outputId": "f0f3afe4-6d64-4691-f13e-a3266705e410"
      },
      "outputs": [
        {
          "name": "stdout",
          "output_type": "stream",
          "text": [
            "number of zero values in SkinThickness 227\n"
          ]
        }
      ],
      "source": [
        "print(\"number of zero values in SkinThickness\" , db[db['SkinThickness']==0].shape[0])"
      ]
    },
    {
      "cell_type": "code",
      "execution_count": null,
      "id": "25daced0",
      "metadata": {
        "id": "25daced0",
        "outputId": "e6757175-032b-4fd2-f020-66f33c8f4232"
      },
      "outputs": [
        {
          "name": "stdout",
          "output_type": "stream",
          "text": [
            "number of zero values in Insulin 374\n"
          ]
        }
      ],
      "source": [
        "print(\"number of zero values in Insulin\" , db[db['Insulin']==0].shape[0])"
      ]
    },
    {
      "cell_type": "code",
      "execution_count": null,
      "id": "2d5a4ada",
      "metadata": {
        "id": "2d5a4ada",
        "outputId": "38dad75b-3c1f-44e8-84c4-a17fe07b42a1"
      },
      "outputs": [
        {
          "name": "stdout",
          "output_type": "stream",
          "text": [
            "number of zero values in BMI 11\n"
          ]
        }
      ],
      "source": [
        "print(\"number of zero values in BMI\" , db[db['BMI']==0].shape[0])"
      ]
    },
    {
      "cell_type": "markdown",
      "id": "64c1110c",
      "metadata": {
        "id": "64c1110c"
      },
      "source": [
        "### c)REPLACING NO.OF ZEROS WITH MEAN OF THE COLUMN"
      ]
    },
    {
      "cell_type": "code",
      "execution_count": null,
      "id": "fd996261",
      "metadata": {
        "id": "fd996261",
        "outputId": "86cc5a84-08b6-40e1-f061-33ad88bdc489"
      },
      "outputs": [
        {
          "name": "stdout",
          "output_type": "stream",
          "text": [
            "No.of zero values in Pregnancies   0\n"
          ]
        }
      ],
      "source": [
        "db['Pregnancies']= db['Pregnancies'].replace(0,db['Pregnancies'].mean())\n",
        "print('No.of zero values in Pregnancies  ', db[db['Pregnancies']==0].shape[0])"
      ]
    },
    {
      "cell_type": "code",
      "execution_count": null,
      "id": "b5b4fff8",
      "metadata": {
        "id": "b5b4fff8"
      },
      "outputs": [],
      "source": [
        "db['Glucose']= db['Glucose'].replace(0,db['Glucose'].mean())"
      ]
    },
    {
      "cell_type": "code",
      "execution_count": null,
      "id": "5bedbdbf",
      "metadata": {
        "id": "5bedbdbf"
      },
      "outputs": [],
      "source": [
        "db['BloodPressure']= db['BloodPressure'].replace(0,db['BloodPressure'].mean())"
      ]
    },
    {
      "cell_type": "code",
      "execution_count": null,
      "id": "13096147",
      "metadata": {
        "id": "13096147"
      },
      "outputs": [],
      "source": [
        "db['SkinThickness']= db['SkinThickness'].replace(0,db['SkinThickness'].mean())"
      ]
    },
    {
      "cell_type": "code",
      "execution_count": null,
      "id": "56080e12",
      "metadata": {
        "id": "56080e12"
      },
      "outputs": [],
      "source": [
        "db['Insulin']= db['Insulin'].replace(0,db['Insulin'].mean())"
      ]
    },
    {
      "cell_type": "code",
      "execution_count": null,
      "id": "8dcdc4e5",
      "metadata": {
        "id": "8dcdc4e5"
      },
      "outputs": [],
      "source": [
        "db['BMI']= db['BMI'].replace(0,db['BMI'].mean())"
      ]
    },
    {
      "cell_type": "markdown",
      "id": "6c079fa4",
      "metadata": {
        "id": "6c079fa4"
      },
      "source": [
        "## split the data frame into X & y\n"
      ]
    },
    {
      "cell_type": "code",
      "execution_count": null,
      "id": "00f82622",
      "metadata": {
        "id": "00f82622"
      },
      "outputs": [],
      "source": [
        "target_name='Outcome'\n",
        "y= db[target_name]\n",
        "X= db.drop(target_name,axis=1)"
      ]
    },
    {
      "cell_type": "code",
      "execution_count": null,
      "id": "9367c013",
      "metadata": {
        "id": "9367c013",
        "outputId": "8679b6df-0c16-492c-a61e-cfd20c1ebb8e"
      },
      "outputs": [
        {
          "data": {
            "text/html": [
              "<div>\n",
              "<style scoped>\n",
              "    .dataframe tbody tr th:only-of-type {\n",
              "        vertical-align: middle;\n",
              "    }\n",
              "\n",
              "    .dataframe tbody tr th {\n",
              "        vertical-align: top;\n",
              "    }\n",
              "\n",
              "    .dataframe thead th {\n",
              "        text-align: right;\n",
              "    }\n",
              "</style>\n",
              "<table border=\"1\" class=\"dataframe\">\n",
              "  <thead>\n",
              "    <tr style=\"text-align: right;\">\n",
              "      <th></th>\n",
              "      <th>Pregnancies</th>\n",
              "      <th>Glucose</th>\n",
              "      <th>BloodPressure</th>\n",
              "      <th>SkinThickness</th>\n",
              "      <th>Insulin</th>\n",
              "      <th>BMI</th>\n",
              "      <th>DiabetesPedigreeFunction</th>\n",
              "      <th>Age</th>\n",
              "    </tr>\n",
              "  </thead>\n",
              "  <tbody>\n",
              "    <tr>\n",
              "      <th>0</th>\n",
              "      <td>6.000000</td>\n",
              "      <td>148.0</td>\n",
              "      <td>72.0</td>\n",
              "      <td>35.000000</td>\n",
              "      <td>79.799479</td>\n",
              "      <td>33.6</td>\n",
              "      <td>0.627</td>\n",
              "      <td>50</td>\n",
              "    </tr>\n",
              "    <tr>\n",
              "      <th>1</th>\n",
              "      <td>1.000000</td>\n",
              "      <td>85.0</td>\n",
              "      <td>66.0</td>\n",
              "      <td>29.000000</td>\n",
              "      <td>79.799479</td>\n",
              "      <td>26.6</td>\n",
              "      <td>0.351</td>\n",
              "      <td>31</td>\n",
              "    </tr>\n",
              "    <tr>\n",
              "      <th>2</th>\n",
              "      <td>8.000000</td>\n",
              "      <td>183.0</td>\n",
              "      <td>64.0</td>\n",
              "      <td>20.536458</td>\n",
              "      <td>79.799479</td>\n",
              "      <td>23.3</td>\n",
              "      <td>0.672</td>\n",
              "      <td>32</td>\n",
              "    </tr>\n",
              "    <tr>\n",
              "      <th>3</th>\n",
              "      <td>1.000000</td>\n",
              "      <td>89.0</td>\n",
              "      <td>66.0</td>\n",
              "      <td>23.000000</td>\n",
              "      <td>94.000000</td>\n",
              "      <td>28.1</td>\n",
              "      <td>0.167</td>\n",
              "      <td>21</td>\n",
              "    </tr>\n",
              "    <tr>\n",
              "      <th>4</th>\n",
              "      <td>3.845052</td>\n",
              "      <td>137.0</td>\n",
              "      <td>40.0</td>\n",
              "      <td>35.000000</td>\n",
              "      <td>168.000000</td>\n",
              "      <td>43.1</td>\n",
              "      <td>2.288</td>\n",
              "      <td>33</td>\n",
              "    </tr>\n",
              "  </tbody>\n",
              "</table>\n",
              "</div>"
            ],
            "text/plain": [
              "   Pregnancies  Glucose  BloodPressure  SkinThickness     Insulin   BMI  \\\n",
              "0     6.000000    148.0           72.0      35.000000   79.799479  33.6   \n",
              "1     1.000000     85.0           66.0      29.000000   79.799479  26.6   \n",
              "2     8.000000    183.0           64.0      20.536458   79.799479  23.3   \n",
              "3     1.000000     89.0           66.0      23.000000   94.000000  28.1   \n",
              "4     3.845052    137.0           40.0      35.000000  168.000000  43.1   \n",
              "\n",
              "   DiabetesPedigreeFunction  Age  \n",
              "0                     0.627   50  \n",
              "1                     0.351   31  \n",
              "2                     0.672   32  \n",
              "3                     0.167   21  \n",
              "4                     2.288   33  "
            ]
          },
          "execution_count": 24,
          "metadata": {},
          "output_type": "execute_result"
        }
      ],
      "source": [
        "X.head()"
      ]
    },
    {
      "cell_type": "code",
      "execution_count": null,
      "id": "6d20f43c",
      "metadata": {
        "id": "6d20f43c",
        "outputId": "50e1fc14-8e38-4379-e53e-520526d5e4a2"
      },
      "outputs": [
        {
          "data": {
            "text/plain": [
              "0    1\n",
              "1    0\n",
              "2    1\n",
              "3    0\n",
              "4    1\n",
              "Name: Outcome, dtype: int64"
            ]
          },
          "execution_count": 25,
          "metadata": {},
          "output_type": "execute_result"
        }
      ],
      "source": [
        "y.head()"
      ]
    },
    {
      "cell_type": "markdown",
      "id": "4b041420",
      "metadata": {
        "id": "4b041420"
      },
      "source": [
        "#### applying scaling feature i.e., standardization"
      ]
    },
    {
      "cell_type": "code",
      "execution_count": null,
      "id": "2a6505cd",
      "metadata": {
        "id": "2a6505cd"
      },
      "outputs": [],
      "source": [
        "#standard scaler\n",
        "scaler = StandardScaler()\n",
        "scaler.fit(X)\n",
        "SSX = scaler.transform(X)"
      ]
    },
    {
      "cell_type": "markdown",
      "id": "469b2403",
      "metadata": {
        "id": "469b2403"
      },
      "source": [
        "### train test split"
      ]
    },
    {
      "cell_type": "code",
      "execution_count": null,
      "id": "4f0a0a4d",
      "metadata": {
        "id": "4f0a0a4d",
        "outputId": "215146b2-5b91-4b4f-82a9-e2c1275bd2c0"
      },
      "outputs": [
        {
          "name": "stdout",
          "output_type": "stream",
          "text": [
            "X_train size:  (614, 8)\n",
            "y_train size:  (614,) \n",
            "\n",
            "X_test size:  (154, 8)\n",
            "y_test size:  (154,)\n"
          ]
        }
      ],
      "source": [
        "X_train,X_test,y_train,y_test = train_test_split(SSX,y,test_size=0.2, random_state=7)\n",
        "\n",
        "print(\"X_train size: \", X_train.shape)\n",
        "print(\"y_train size: \", y_train.shape, \"\\n\")\n",
        "print(\"X_test size: \", X_test.shape)\n",
        "print(\"y_test size: \", y_test.shape)"
      ]
    },
    {
      "cell_type": "markdown",
      "id": "3c9d2f01",
      "metadata": {
        "id": "3c9d2f01"
      },
      "source": [
        "## Build the CLASSIFICATION Algorithms"
      ]
    },
    {
      "cell_type": "markdown",
      "id": "0e101c87",
      "metadata": {
        "id": "0e101c87"
      },
      "source": [
        "### 1)KNN"
      ]
    },
    {
      "cell_type": "code",
      "execution_count": null,
      "id": "b241473b",
      "metadata": {
        "id": "b241473b",
        "outputId": "3a77aae2-4c84-459f-f394-c0c0e74a616f"
      },
      "outputs": [
        {
          "data": {
            "text/plain": [
              "KNeighborsClassifier()"
            ]
          },
          "execution_count": 31,
          "metadata": {},
          "output_type": "execute_result"
        }
      ],
      "source": [
        "knn=KNeighborsClassifier(n_neighbors=5,metric='minkowski',p=2)\n",
        "knn.fit(X_train, y_train)"
      ]
    },
    {
      "cell_type": "code",
      "execution_count": null,
      "id": "d28780e4",
      "metadata": {
        "id": "d28780e4"
      },
      "outputs": [],
      "source": [
        "#predicting the test set results\n",
        "knn_pred = knn.predict(X_test)"
      ]
    },
    {
      "cell_type": "code",
      "execution_count": null,
      "id": "81537f32",
      "metadata": {
        "id": "81537f32",
        "outputId": "bb8cdee2-3fb8-476a-9cc5-594404dfcc05"
      },
      "outputs": [
        {
          "name": "stdout",
          "output_type": "stream",
          "text": [
            "Accuracy:  0.7597402597402597\n"
          ]
        }
      ],
      "source": [
        "print(\"Accuracy: \",accuracy_score(y_test,knn_pred))"
      ]
    },
    {
      "cell_type": "markdown",
      "id": "58c248ae",
      "metadata": {
        "id": "58c248ae"
      },
      "source": [
        "### 2) Naive bayes"
      ]
    },
    {
      "cell_type": "code",
      "execution_count": null,
      "id": "c22e51a0",
      "metadata": {
        "id": "c22e51a0",
        "outputId": "de0bd8b0-0e51-4cb1-a719-dde12e3cd7bc"
      },
      "outputs": [
        {
          "data": {
            "text/plain": [
              "GaussianNB()"
            ]
          },
          "execution_count": 34,
          "metadata": {},
          "output_type": "execute_result"
        }
      ],
      "source": [
        "nb=GaussianNB()\n",
        "nb.fit(X_train, y_train)"
      ]
    },
    {
      "cell_type": "code",
      "execution_count": null,
      "id": "5ba31edb",
      "metadata": {
        "id": "5ba31edb"
      },
      "outputs": [],
      "source": [
        "#predicting the test set results\n",
        "nb_pred = nb.predict(X_test)"
      ]
    },
    {
      "cell_type": "code",
      "execution_count": null,
      "id": "8ffc35b0",
      "metadata": {
        "id": "8ffc35b0",
        "outputId": "924abac8-8760-4b95-fcff-b7a99fa45f6a"
      },
      "outputs": [
        {
          "name": "stdout",
          "output_type": "stream",
          "text": [
            "Accuracy:  0.7532467532467533\n"
          ]
        }
      ],
      "source": [
        "print(\"Accuracy: \",accuracy_score(y_test,nb_pred))"
      ]
    },
    {
      "cell_type": "markdown",
      "id": "176d9417",
      "metadata": {
        "id": "176d9417"
      },
      "source": [
        "### 3)SVM"
      ]
    },
    {
      "cell_type": "code",
      "execution_count": null,
      "id": "f14a6f85",
      "metadata": {
        "id": "f14a6f85",
        "outputId": "03f74d51-8d38-4911-d2cb-0669469c50cd"
      },
      "outputs": [
        {
          "data": {
            "text/plain": [
              "SVC(kernel='linear', random_state=0)"
            ]
          },
          "execution_count": 37,
          "metadata": {},
          "output_type": "execute_result"
        }
      ],
      "source": [
        "sv=SVC(kernel=\"linear\",random_state=0)\n",
        "sv.fit(X_train, y_train)"
      ]
    },
    {
      "cell_type": "code",
      "execution_count": null,
      "id": "65f3a12e",
      "metadata": {
        "id": "65f3a12e"
      },
      "outputs": [],
      "source": [
        "#predicting the test set results\n",
        "sv_pred = sv.predict(X_test)"
      ]
    },
    {
      "cell_type": "code",
      "execution_count": null,
      "id": "95dc4f20",
      "metadata": {
        "id": "95dc4f20",
        "outputId": "e6820eec-24d2-4172-bbcf-094e865be023"
      },
      "outputs": [
        {
          "name": "stdout",
          "output_type": "stream",
          "text": [
            "Accuracy:  0.7987012987012987\n"
          ]
        }
      ],
      "source": [
        "print(\"Accuracy: \",accuracy_score(y_test,sv_pred))"
      ]
    },
    {
      "cell_type": "markdown",
      "id": "1e9ba5e1",
      "metadata": {
        "id": "1e9ba5e1"
      },
      "source": [
        "### 4)Random forest"
      ]
    },
    {
      "cell_type": "code",
      "execution_count": null,
      "id": "717012df",
      "metadata": {
        "id": "717012df",
        "outputId": "f69b8607-2e4d-4f39-a6d8-8fa54335306f"
      },
      "outputs": [
        {
          "data": {
            "text/plain": [
              "RandomForestClassifier(criterion='entropy')"
            ]
          },
          "execution_count": 40,
          "metadata": {},
          "output_type": "execute_result"
        }
      ],
      "source": [
        "rf=RandomForestClassifier(criterion='entropy')\n",
        "rf.fit(X_train, y_train)"
      ]
    },
    {
      "cell_type": "code",
      "execution_count": null,
      "id": "cdd58eed",
      "metadata": {
        "id": "cdd58eed"
      },
      "outputs": [],
      "source": [
        "#predicting the test set results\n",
        "rf_pred= rf.predict(X_test)"
      ]
    },
    {
      "cell_type": "code",
      "execution_count": null,
      "id": "376761c8",
      "metadata": {
        "id": "376761c8",
        "outputId": "ce9f0e31-5dd6-4570-8878-1dce4bfabbfc"
      },
      "outputs": [
        {
          "name": "stdout",
          "output_type": "stream",
          "text": [
            "Accuracy:  0.7857142857142857\n"
          ]
        }
      ],
      "source": [
        "print(\"Accuracy: \",accuracy_score(y_test,rf_pred))"
      ]
    },
    {
      "cell_type": "code",
      "execution_count": null,
      "id": "4eec0ca1",
      "metadata": {
        "id": "4eec0ca1"
      },
      "outputs": [],
      "source": [
        " #HYPER PARAMETER OPTIMIZATION\n",
        "parameters={\n",
        "    \"learning_rate\"    :[0.05,0.10,0.15,0.25],\n",
        "    \"max_depth\"        :[3,4,5,6,8,10,12,15],\n",
        "    \"min_child_weight\" :[1,3,5,7],\n",
        "    \"gamma\"            :[0.0,0.1,0.2,0.3,0.4],\n",
        "    \"colsample_bytree\" :[0.3,0.4,0.5,0.7]\n",
        "}"
      ]
    },
    {
      "cell_type": "markdown",
      "id": "bd41e656",
      "metadata": {
        "id": "bd41e656"
      },
      "source": [
        "### GridsearchCV to find best combination of hypertuned parameters in KNN algorithm"
      ]
    },
    {
      "cell_type": "code",
      "execution_count": null,
      "id": "544dd758",
      "metadata": {
        "id": "544dd758"
      },
      "outputs": [],
      "source": [
        "parameters={'n_neighbors':[1,2,3,4,5,6,7,8,9,10,11,12,13,14,15,16,17,18,19,20],\n",
        "           'weights':['uniform'],\n",
        "           'p':[2]}\n",
        "grid_search=GridSearchCV(estimator=knn,\n",
        "                        param_grid=parameters,\n",
        "                        scoring='accuracy',\n",
        "                        cv=15)\n",
        "grid_search=grid_search.fit(X_train,y_train.ravel())"
      ]
    },
    {
      "cell_type": "code",
      "execution_count": null,
      "id": "fcacaba0",
      "metadata": {
        "id": "fcacaba0"
      },
      "outputs": [],
      "source": [
        "accuracy=grid_search.best_score_"
      ]
    },
    {
      "cell_type": "code",
      "execution_count": null,
      "id": "a0dbb25a",
      "metadata": {
        "id": "a0dbb25a",
        "outputId": "3ca546ee-ed2e-4701-e4af-89f0ff42d5dc"
      },
      "outputs": [
        {
          "data": {
            "text/plain": [
              "0.7605284552845528"
            ]
          },
          "execution_count": 61,
          "metadata": {},
          "output_type": "execute_result"
        }
      ],
      "source": [
        "accuracy"
      ]
    },
    {
      "cell_type": "markdown",
      "id": "d9cf2c18",
      "metadata": {
        "id": "d9cf2c18"
      },
      "source": [
        "### GridSearchCV to find best combination of hypertuned parameters in Naive Bias"
      ]
    },
    {
      "cell_type": "code",
      "execution_count": null,
      "id": "0f8f9097",
      "metadata": {
        "id": "0f8f9097",
        "outputId": "939706b3-b1b0-4c5a-80c8-a0e028bb076a"
      },
      "outputs": [
        {
          "name": "stdout",
          "output_type": "stream",
          "text": [
            "Fitting 3 folds for each of 16 candidates, totalling 48 fits\n"
          ]
        }
      ],
      "source": [
        "parameters={'n_neighbors':[3,5,11,19],\n",
        "            'weights':['uniform','distance'],\n",
        "            'metric':['euclidean','manhattan']}\n",
        "grid_search=GridSearchCV(KNeighborsClassifier(),\n",
        "                        param_grid=parameters,\n",
        "                        verbose=1,\n",
        "                        cv=3,\n",
        "                        n_jobs=-1\n",
        "                        )\n",
        "\n",
        "grid_search=grid_search.fit(X_train,y_train.ravel())"
      ]
    },
    {
      "cell_type": "code",
      "execution_count": null,
      "id": "1ecd4b54",
      "metadata": {
        "id": "1ecd4b54"
      },
      "outputs": [],
      "source": [
        "accuracy=grid_search.best_score_"
      ]
    },
    {
      "cell_type": "code",
      "execution_count": null,
      "id": "62a599fc",
      "metadata": {
        "id": "62a599fc",
        "outputId": "bca79a30-619e-48eb-ac9b-9f555e1a694e"
      },
      "outputs": [
        {
          "data": {
            "text/plain": [
              "0.7654949784791966"
            ]
          },
          "execution_count": 49,
          "metadata": {},
          "output_type": "execute_result"
        }
      ],
      "source": [
        "accuracy"
      ]
    },
    {
      "cell_type": "markdown",
      "id": "e8cc66a2",
      "metadata": {
        "id": "e8cc66a2"
      },
      "source": [
        "### GridsearchCV to find best combination of hypertuned parameters in SVM algoritm"
      ]
    },
    {
      "cell_type": "code",
      "execution_count": null,
      "id": "73e66b53",
      "metadata": {
        "id": "73e66b53"
      },
      "outputs": [],
      "source": [
        "parameters=[{'C':[1,10,100,1000],'kernel':['linear','rbf','poly','sigmoid','linear'],'degree':[1,2,3,4,5,6],'gamma':['auto','scale']}]\n",
        "grid_search=GridSearchCV(estimator=sv,\n",
        "                        param_grid=parameters,\n",
        "                        scoring='accuracy',\n",
        "                        cv=5)\n",
        "grid_search=grid_search.fit(X_train,y_train.ravel())"
      ]
    },
    {
      "cell_type": "code",
      "execution_count": null,
      "id": "4ad18a0b",
      "metadata": {
        "id": "4ad18a0b"
      },
      "outputs": [],
      "source": [
        "accuracy=grid_search.best_score_"
      ]
    },
    {
      "cell_type": "code",
      "execution_count": null,
      "id": "c0b664cf",
      "metadata": {
        "id": "c0b664cf",
        "outputId": "f417d2ef-341d-42e6-ba9a-bb8a33519e33"
      },
      "outputs": [
        {
          "data": {
            "text/plain": [
              "0.776862588298014"
            ]
          },
          "execution_count": 52,
          "metadata": {},
          "output_type": "execute_result"
        }
      ],
      "source": [
        "accuracy"
      ]
    },
    {
      "cell_type": "markdown",
      "id": "41677696",
      "metadata": {
        "id": "41677696"
      },
      "source": [
        "### GridSearchCV to find best combnation of hypertuned parameters in RandomForestClassifier algorithm"
      ]
    },
    {
      "cell_type": "code",
      "execution_count": null,
      "id": "6dc19c2f",
      "metadata": {
        "id": "6dc19c2f"
      },
      "outputs": [],
      "source": [
        "parameters={'n_estimators':[10,20,30,40,50,60,70,80,90,100],\n",
        "           'criterion':['gini','entropy']}\n",
        "grid_search=GridSearchCV(estimator=rf,\n",
        "                        param_grid=parameters,\n",
        "                        scoring='accuracy',\n",
        "                        cv=10)\n",
        "grid_search=grid_search.fit(X_train,y_train.ravel())\n"
      ]
    },
    {
      "cell_type": "code",
      "execution_count": null,
      "id": "dd51b5cf",
      "metadata": {
        "id": "dd51b5cf"
      },
      "outputs": [],
      "source": [
        "accuracy=grid_search.best_score_"
      ]
    },
    {
      "cell_type": "code",
      "execution_count": null,
      "id": "d4a6c7fa",
      "metadata": {
        "id": "d4a6c7fa",
        "outputId": "06f50f6b-5b78-4faf-815a-0b9f8ad3b4b2"
      },
      "outputs": [
        {
          "data": {
            "text/plain": [
              "0.763802221047065"
            ]
          },
          "execution_count": 55,
          "metadata": {},
          "output_type": "execute_result"
        }
      ],
      "source": [
        "accuracy"
      ]
    }
  ],
  "metadata": {
    "kernelspec": {
      "display_name": "Python 3 (ipykernel)",
      "language": "python",
      "name": "python3"
    },
    "language_info": {
      "codemirror_mode": {
        "name": "ipython",
        "version": 3
      },
      "file_extension": ".py",
      "mimetype": "text/x-python",
      "name": "python",
      "nbconvert_exporter": "python",
      "pygments_lexer": "ipython3",
      "version": "3.9.7"
    },
    "colab": {
      "provenance": [],
      "include_colab_link": true
    }
  },
  "nbformat": 4,
  "nbformat_minor": 5
}